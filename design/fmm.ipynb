{
 "cells": [
  {
   "cell_type": "markdown",
   "metadata": {},
   "source": [
    "**Jonas**\n",
    "\n",
    "$$\n",
    "\\def\\x{\\vec x}\n",
    "\\def\\z{\\vec z}\n",
    "\\def\\d{\\mathrm d}\n",
    "$$\n",
    "\n",
    "### Étapes pour l'algorithme FMM\n",
    "\n",
    "#### Initialisation\n",
    "\n",
    "1. Choisir un volume de simulation et un nombre de particules (cube de taille $R$).\n",
    "2. Déterminer $\\phi$.\n",
    "   1. Choisir une fonction $\\eta$ d'adoucissement pour le potentiel des particules massives.\n",
    "   2. Se donner une largeur de particule $\\varepsilon$ (typiquement $4R/\\sqrt N$ avec $R$ la taille du volume de simulation et $N$ le nombre de particules).\n",
    "   3. En déduire la fonction $\\varphi$ telle que le potentiel en $\\x$ s'écrive\n",
    "      $$\n",
    "      \\Phi(\\x) = -\\sum_{i=1}^N \\dfrac{G\\mu_i}{\\varepsilon} \\varphi\\left(\\dfrac{\\|\\x - \\x_i\\|}{\\varepsilon}\\right)\n",
    "      $$\n",
    "      Que l'on obtient via l'équation de Gauss gravitationnelle :\n",
    "      $$\n",
    "       4\\pi \\eta (\\xi) = -\\dfrac 1 {\\xi ^2} \\frac{\\d }{\\d \\xi}\\left(\\xi^2 \\frac{\\d \\varphi}{\\d \\xi}\\right)\n",
    "      $$\n",
    "      Un choix typique est l'adoucissement de Plummer\n",
    "      $$\n",
    "      \\eta (\\xi) = \\frac 3 {4\\pi} (1 + \\xi^2)^{-5/2}\\\\\n",
    "      \\varphi(\\xi) = (1 + \\xi^2)^{-1/2}\n",
    "      $$\n",
    "   4. En déduire $\\phi = -\\dfrac G \\varepsilon \\varphi$.\n",
    "   5. Calculer le gradient de $\\phi$ analytiquement.\n",
    "3. Choisir des masses et des positions pour les particules.\n",
    "4. Construire l'arbre des multipoles.\n",
    "   1. Choisir le nombre maximal $n_{max}$ de particules dans une cellule feuille.\n",
    "   2. En prenant le volume entier comme racine, donner récursivement à chaque noeud 8 cellules filles (en coupant en deux dans chaque dimension) tant que le nombre de particules dans le noeud est strictement supérieur $n_{max}$.\n",
    "   3. En partant des cellules feuilles, dans une cellule $A$, calculer la masse $M_A$ de la cellule (somme des masses des particules), son barycentre $\\z_A$ et sa taille caractéristique $w_A = \\max_{x\\in A}\\{\\|\\x - \\z_A\\|\\}$.\n",
    "   4. Remonter ensuite la récursion de l'arbre. Pour une cellule mère $A$ avec des cellules filles $(B_i)$, on a $M_A = \\sum_{i=1}^8 M_{B_i}$, $\\z_A = \\sum_{i=1}^8 M_{B_i}\\z_{B_i}$ et $w_A = \\max_{1\\le i \\le 8}\\{\\|\\z_A - \\z_{B_i}\\| + w_{B_i}\\}$.\n",
    "5. Calculer les tenseurs de champs des cellules.\n",
    "   1. Ces tenseurs ont 4 coordonnées. Les initialiser à $(0, 0, 0, 0)$ pour toutes les cellules (peut être fait dans l'étape 4).\n",
    "   2. À suivre... (pas encore trouvé comment implémenter efficacement la descente dans l'arbre pour le calcul des champs).\n",
    "\n",
    "```python\n",
    "class OctTree:\n",
    "   \"\"\"\n",
    "   Fields:\n",
    "      children: children of the node (list of 8 OctTree | None)\n",
    "      dtype: type of the node (Any)\n",
    "      value: value of the node (dtype)\n",
    "   \"\"\"\n",
    "\n",
    "class FMMCell:\n",
    "   \"\"\"\n",
    "   Fields:\n",
    "      width: max distance between barycenter and contained particles (float)\n",
    "      samples: list of mass samples in the cell, None if not leaf (List[MassSample] | None)\n",
    "      barycenter: centre of mass (vec3)\n",
    "      mass: mass of the cell (float)\n",
    "      field_tensor: when leaf cell sum of field tensor contributions of all other far cells (vec4)\n",
    "      neighbors: list of neighboring cells (List[FMMCell])\n",
    "\n",
    "   \"\"\"\n",
    "\n",
    "class MassSample:\n",
    "   \"\"\"\n",
    "   Fields:\n",
    "      mass: mass of the particle (float)\n",
    "      position: position of the particle (vec3)\n",
    "      previous_position: previous position of the particle (for Verlet integration) (vec3)\n",
    "   Methods:\n",
    "      speed: speed of the particle (float -> vec3)\n",
    "   \"\"\"\n",
    "\n",
    "class FMMSolver:\n",
    "   \"\"\"\n",
    "   Fields:\n",
    "      size: size of the simulation cube (float)\n",
    "      phi: function representing the potential of one \"particle\" (Callable[float, float])\n",
    "      dt: timestep (float)\n",
    "   Methods:\n",
    "      epsilon: particle smoothing size (None -> float)\n",
    "\n",
    "   \"\"\"\n",
    "```\n"
   ]
  },
  {
   "cell_type": "markdown",
   "metadata": {},
   "source": []
  },
  {
   "cell_type": "code",
   "execution_count": null,
   "metadata": {},
   "outputs": [
    {
     "data": {
      "text/html": [
       "<div id=\"glowscript\" class=\"glowscript\"></div>"
      ],
      "text/plain": [
       "<IPython.core.display.HTML object>"
      ]
     },
     "metadata": {},
     "output_type": "display_data"
    },
    {
     "data": {
      "application/javascript": "if (typeof Jupyter !== \"undefined\") { window.__context = { glowscript_container: $(\"#glowscript\").removeAttr(\"id\")};}else{ element.textContent = ' ';}",
      "text/plain": [
       "<IPython.core.display.Javascript object>"
      ]
     },
     "metadata": {},
     "output_type": "display_data"
    }
   ],
   "source": []
  },
  {
   "cell_type": "code",
   "execution_count": null,
   "metadata": {},
   "outputs": [],
   "source": []
  }
 ],
 "metadata": {
  "kernelspec": {
   "display_name": ".venv",
   "language": "python",
   "name": "python3"
  },
  "language_info": {
   "codemirror_mode": {
    "name": "ipython",
    "version": 3
   },
   "file_extension": ".py",
   "mimetype": "text/x-python",
   "name": "python",
   "nbconvert_exporter": "python",
   "pygments_lexer": "ipython3",
   "version": "3.13.0"
  }
 },
 "nbformat": 4,
 "nbformat_minor": 2
}
