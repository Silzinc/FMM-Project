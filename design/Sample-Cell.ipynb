{
 "cells": [
  {
   "cell_type": "markdown",
   "metadata": {},
   "source": [
    "We will define here the MassSample class, which will allow us ti characterize each sample by its position and mass."
   ]
  },
  {
   "cell_type": "code",
   "execution_count": null,
   "metadata": {},
   "outputs": [],
   "source": [
    "import numpy as np\n",
    "import numpy.random as rd\n",
    "import scipy.stats as st\n",
    "\n",
    "import numpy.typing as npt\n",
    "\n",
    "mu = 1.0\n",
    "size = 10.0\n",
    "\n",
    "class MassSample:\n",
    "    \"\"\"\n",
    "    Fields:\n",
    "      mass: mass of the particle (float)\n",
    "      position: position of the particle (vec3)\n",
    "      previous_position: previous position of the particle (for Verlet integration) (vec3)\n",
    "    Methods:\n",
    "      speed: speed of the particle (float -> vec3)\n",
    "    \"\"\"\n",
    "    def __init__(self):\n",
    "        self.mass: float = mu\n",
    "        self.pos: npt.NDArray = rd.rand(3) * size\n",
    "        self.prev_pos: npt.NDArray = np.copy(self.pos) ## + rd.randn(3)\n",
    "        self.index: int = 0\n",
    "\n",
    "    def speed(self, dt:float) -> npt.NDArray:\n",
    "        return (self.pos - self.prev_pos) / dt\n",
    "\n",
    "    def update_id(self,index:int):\n",
    "        self.index = index\n",
    "        return\n",
    "    \n",
    "test_sample = MassSample()\n",
    "\n",
    "print(test_sample.pos)\n",
    "print(test_sample.prev_pos)\n",
    "print(test_sample.speed(1))\n",
    "\n"
   ]
  },
  {
   "cell_type": "markdown",
   "metadata": {},
   "source": [
    "We will define here the FMMCell class, allowing us to represent the MassSamples contained in a cell and its characteristics, such as its width, samples, barycenter, mass, field tensor and neighbors"
   ]
  },
  {
   "cell_type": "code",
   "execution_count": null,
   "metadata": {},
   "outputs": [],
   "source": [
    "from typing import List\n",
    "\n",
    "class FMMCell:\n",
    "    \"\"\"\n",
    "    Fields:\n",
    "       width: max distance between barycenter and contained particles (float)\n",
    "       samples: list of mass samples in the cell, None if not leaf (List[MassSample] | None)\n",
    "       barycenter: centre of mass (vec3)\n",
    "       mass: mass of the cell (float)\n",
    "       field_tensor: when leaf cell sum of field tensor contributions of all other far cells (vec4)\n",
    "       neighbors: list of neighboring cells (List[FMMCell])\n",
    "\n",
    "    \"\"\"\n",
    "    def __init__(self, samples, centroid, size):\n",
    "        self.samples: npt.Optional[npt.List[MassSample]] = samples\n",
    "        self.mass: float = 0\n",
    "        self.barycenter: npt.NDArray = 0\n",
    "        self.width: float = 0\n",
    "        self.centroid: npt.NDArray = centroid\n",
    "        self.size: float = size\n",
    "        for s in samples:\n",
    "            self.mass += s.mass\n",
    "            self.barycenter += s.mass * s.pos\n",
    "        self.barycenter /= self.mass\n",
    "        for s in samples:    \n",
    "            if (np.linalg.norm(s.pos-self.barycenter)>self.width):\n",
    "                self.width = np.linalg.norm(s.pos)\n",
    "        self.neighbors: List[int] = []\n",
    "        self.field_tensor: npt.NDArray = np.zeros(4)\n",
    "\n",
    "    def contains_sample(self,sample:MassSample)->bool:\n",
    "        print(np.max(abs(self.centroid - sample.pos)))\n",
    "        print(self.size/2)\n",
    "        return (np.max(abs(self.centroid - sample.pos)) < self.size/2)\n",
    "\n",
    "\n",
    "test_sample = MassSample()\n",
    "test_cell = FMMCell([test_sample],[5,5,5],5)\n",
    "\n",
    "\n",
    "print(test_sample.pos)\n",
    "print(test_cell.contains_sample(test_sample))\n",
    "\n",
    "             \n"
   ]
  }
 ],
 "metadata": {
  "kernelspec": {
   "display_name": ".venv",
   "language": "python",
   "name": "python3"
  },
  "language_info": {
   "codemirror_mode": {
    "name": "ipython",
    "version": 3
   },
   "file_extension": ".py",
   "mimetype": "text/x-python",
   "name": "python",
   "nbconvert_exporter": "python",
   "pygments_lexer": "ipython3",
   "version": "3.13.0"
  }
 },
 "nbformat": 4,
 "nbformat_minor": 2
}
